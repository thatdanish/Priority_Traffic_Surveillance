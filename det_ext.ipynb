{
 "cells": [
  {
   "cell_type": "code",
   "execution_count": 24,
   "metadata": {},
   "outputs": [],
   "source": [
    "import tensorflow as tf\n",
    "import cv2 \n",
    "import matplotlib.pyplot as plt\n",
    "import numpy as np\n",
    "import time\n",
    "import numpy as np\n",
    "from tensorflow.keras.models import load_model"
   ]
  },
  {
   "cell_type": "code",
   "execution_count": 31,
   "metadata": {},
   "outputs": [],
   "source": [
    "model = load_model(\"Models/final_model.h5\")"
   ]
  },
  {
   "cell_type": "code",
   "execution_count": 79,
   "metadata": {},
   "outputs": [],
   "source": [
    "# Create our body classifier\n",
    "car_cascade = cv2.CascadeClassifier(\"HaarCascades/cas4.xml\")"
   ]
  },
  {
   "cell_type": "code",
   "execution_count": 80,
   "metadata": {},
   "outputs": [],
   "source": [
    "# Initiate video capture for video file\n",
    "cap = cv2.VideoCapture('specimens/vid11.mp4')"
   ]
  },
  {
   "cell_type": "code",
   "execution_count": 81,
   "metadata": {},
   "outputs": [],
   "source": [
    "# Loop once video is successfully loaded\n",
    "while cap.isOpened():\n",
    "    time.sleep(.05)\n",
    "    # Read first frame\n",
    "    ret,frame = cap.read()\n",
    "    gray = cv2.cvtColor(frame,cv2.COLOR_BGR2GRAY)\n",
    "     \n",
    "    # Pass frame to our car classifier\n",
    "    cars = car_cascade.detectMultiScale(gray,1.3,5)\n",
    "    # Extract bounding boxes for any bodies identified    \n",
    "    for (x,y,w,h) in cars:    \n",
    "        \n",
    "        #get car\n",
    "        car_ext = frame[y:y+h,h:h+w].copy()\n",
    "        car_ext = cv2.resize(car_ext,(224,224))\n",
    "        car_ext = car_ext.reshape(1,224,224,3)\n",
    "        \n",
    "        #predict on car\n",
    "        pred = model.predict(car_ext)\n",
    "        pred = [np.argmax(i) for i in pred]\n",
    "    \n",
    "\n",
    "        if pred == [1]:\n",
    "            cv2.rectangle(frame,(x,y),(x+w,y+h),(0,0,255),2)\n",
    "            cv2.imshow(\"Surveillance\",frame)\n",
    "            #cv2.namedWINDOW(\"Surveillance\",cv2.WINDOW_NORMAL)\n",
    "           # cv2.resizeWindow('Surveillance', 500, 500)\n",
    "        else:\n",
    "            cv2.rectangle(frame,(x,y),(x+w,y+h),(0,255,0),2)\n",
    "            cv2.imshow(\"Surveillance\",frame)\n",
    "           # cv2.namedWINDOW(\"Surveillance\",cv2.WINDOW_NORMAL)\n",
    "            #cv2.resizeWindow('Surveillance', 500, 500)\n",
    "        \n",
    "    if cv2.waitKey(1) == 27: #13 is the Enter Key\n",
    "        break\n",
    "        \n",
    "cap.release()\n",
    "cv2.destroyAllWindows()"
   ]
  },
  {
   "cell_type": "code",
   "execution_count": null,
   "metadata": {},
   "outputs": [],
   "source": []
  },
  {
   "cell_type": "code",
   "execution_count": null,
   "metadata": {},
   "outputs": [],
   "source": []
  }
 ],
 "metadata": {
  "kernelspec": {
   "display_name": "Python 3",
   "language": "python",
   "name": "python3"
  },
  "language_info": {
   "codemirror_mode": {
    "name": "ipython",
    "version": 3
   },
   "file_extension": ".py",
   "mimetype": "text/x-python",
   "name": "python",
   "nbconvert_exporter": "python",
   "pygments_lexer": "ipython3",
   "version": "3.7.7"
  }
 },
 "nbformat": 4,
 "nbformat_minor": 4
}

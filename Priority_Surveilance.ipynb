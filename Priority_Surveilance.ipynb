{
 "cells": [
  {
   "cell_type": "code",
   "execution_count": 1,
   "metadata": {},
   "outputs": [],
   "source": [
    "import tensorflow as tf"
   ]
  },
  {
   "cell_type": "code",
   "execution_count": 2,
   "metadata": {},
   "outputs": [],
   "source": [
    "import pandas as pd\n",
    "import numpy as np\n",
    "import matplotlib.pyplot as plt\n",
    "from tqdm import tqdm\n",
    "import seaborn as sns\n",
    "import os\n",
    "import cv2"
   ]
  },
  {
   "cell_type": "code",
   "execution_count": 3,
   "metadata": {},
   "outputs": [],
   "source": [
    "RANDOM_SEED = 56"
   ]
  },
  {
   "cell_type": "code",
   "execution_count": 4,
   "metadata": {},
   "outputs": [],
   "source": [
    "train_df = pd.read_csv(\"dataset/train.csv\")\n",
    "test_df = pd.read_csv(\"dataset/test.csv\") "
   ]
  },
  {
   "cell_type": "code",
   "execution_count": 5,
   "metadata": {},
   "outputs": [],
   "source": [
    "img_path = 'images/'\n",
    "images_path = os.path.join(\"dataset/\"+img_path) #declaring file path"
   ]
  },
  {
   "cell_type": "code",
   "execution_count": 6,
   "metadata": {},
   "outputs": [],
   "source": [
    "image_filenames = list(os.listdir(images_path)) "
   ]
  },
  {
   "cell_type": "markdown",
   "metadata": {},
   "source": [
    "## Data Processing :-"
   ]
  },
  {
   "cell_type": "code",
   "execution_count": 7,
   "metadata": {},
   "outputs": [],
   "source": [
    "def train_data_prep(df,images_path):\n",
    "    training_images,train_labels = [],[]\n",
    "    \n",
    "    for image in tqdm(df['image_names']):\n",
    "        img = cv2.imread(images_path+image)\n",
    "        img = cv2.resize(img,(224,224),interpolation=cv2.INTER_CUBIC)\n",
    "        \n",
    "        training_images.append(img)\n",
    "        \n",
    "        labels = df.loc[df['image_names']==image,'emergency_or_not'].values[0]\n",
    "        train_labels.append(labels)\n",
    "        \n",
    "    return np.array(training_images),train_labels    # images are returned as a numpy array because there is requirement of changing dimension further in the code"
   ]
  },
  {
   "cell_type": "code",
   "execution_count": 8,
   "metadata": {},
   "outputs": [],
   "source": [
    "def test_data_prep(df,images_path):\n",
    "    test_images = []\n",
    "    \n",
    "    for image in tqdm(df['image_names']):\n",
    "        img = cv2.imread(images_path+image)\n",
    "        img = cv2.resize(img,(224,224),interpolation=cv2.INTER_CUBIC)\n",
    "        \n",
    "        test_images.append(img)\n",
    "    \n",
    "    return np.array(test_images)     #images are returned as a numpy array because there is requirement of changing dimension further in the code"
   ]
  },
  {
   "cell_type": "code",
   "execution_count": 9,
   "metadata": {},
   "outputs": [
    {
     "name": "stderr",
     "output_type": "stream",
     "text": [
      "100%|█████████████████████████████████████████████████████████████████████████████| 1646/1646 [00:04<00:00, 381.65it/s]\n"
     ]
    }
   ],
   "source": [
    "train_images,train_labels = train_data_prep(train_df,images_path)"
   ]
  },
  {
   "cell_type": "code",
   "execution_count": 10,
   "metadata": {},
   "outputs": [
    {
     "name": "stderr",
     "output_type": "stream",
     "text": [
      "100%|███████████████████████████████████████████████████████████████████████████████| 706/706 [00:01<00:00, 470.06it/s]\n"
     ]
    }
   ],
   "source": [
    "test_images = test_data_prep(test_df,images_path)"
   ]
  },
  {
   "cell_type": "code",
   "execution_count": 11,
   "metadata": {},
   "outputs": [
    {
     "name": "stdout",
     "output_type": "stream",
     "text": [
      "1646\n",
      "706\n"
     ]
    }
   ],
   "source": [
    "print(len(train_images))\n",
    "print(len(test_images))"
   ]
  },
  {
   "cell_type": "code",
   "execution_count": 12,
   "metadata": {},
   "outputs": [
    {
     "data": {
      "text/plain": [
       "<matplotlib.axes._subplots.AxesSubplot at 0x1eaae6f1f88>"
      ]
     },
     "execution_count": 12,
     "metadata": {},
     "output_type": "execute_result"
    },
    {
     "data": {
      "image/png": "[encoded data removed]",
      "text/plain": [
       "<Figure size 360x144 with 1 Axes>"
      ]
     },
     "metadata": {
      "needs_background": "light"
     },
     "output_type": "display_data"
    }
   ],
   "source": [
    "plt.figure(figsize=(5,2))\n",
    "sns.countplot(train_df['emergency_or_not'])"
   ]
  },
  {
   "cell_type": "code",
   "execution_count": 13,
   "metadata": {},
   "outputs": [],
   "source": [
    "from tensorflow.keras.utils import to_categorical"
   ]
  },
  {
   "cell_type": "code",
   "execution_count": 14,
   "metadata": {},
   "outputs": [],
   "source": [
    "#train_labels = to_categorical(train_labels,2)"
   ]
  },
  {
   "cell_type": "code",
   "execution_count": 15,
   "metadata": {},
   "outputs": [],
   "source": [
    "from sklearn.model_selection import train_test_split"
   ]
  },
  {
   "cell_type": "code",
   "execution_count": 16,
   "metadata": {},
   "outputs": [],
   "source": [
    "x_train,x_val,y_train,y_val = train_test_split(train_images,train_labels,test_size=0.1,random_state=RANDOM_SEED,stratify=train_labels)"
   ]
  },
  {
   "cell_type": "code",
   "execution_count": 17,
   "metadata": {},
   "outputs": [],
   "source": [
    "from tensorflow.keras.preprocessing.image import ImageDataGenerator"
   ]
  },
  {
   "cell_type": "code",
   "execution_count": 18,
   "metadata": {},
   "outputs": [],
   "source": [
    "train_datagen = ImageDataGenerator(rescale=1./255,\n",
    "                                  horizontal_flip=True,\n",
    "                                  shear_range=0.4,\n",
    "                                  rotation_range=40,\n",
    "                                  width_shift_range=0.4,\n",
    "                                  height_shift_range=0.4,\n",
    "                                  zoom_range=0.3,\n",
    "                                  brightness_range = [0.2,1],\n",
    "                                  fill_mode='nearest'\n",
    "                                  )\n",
    "test_datagen = ImageDataGenerator(rescale=1./255)"
   ]
  },
  {
   "cell_type": "code",
   "execution_count": 19,
   "metadata": {},
   "outputs": [],
   "source": [
    "train_datagen.fit(x_train)\n",
    "test_datagen.fit(test_images)\n",
    "test_datagen.fit(x_val)"
   ]
  },
  {
   "cell_type": "code",
   "execution_count": 20,
   "metadata": {},
   "outputs": [],
   "source": [
    "x_train = np.array(x_train)\n",
    "x_val = np.array(x_val)\n",
    "x_test = np.array(test_images)"
   ]
  },
  {
   "cell_type": "code",
   "execution_count": 21,
   "metadata": {},
   "outputs": [],
   "source": [
    "batchsize=15"
   ]
  },
  {
   "cell_type": "code",
   "execution_count": 22,
   "metadata": {},
   "outputs": [],
   "source": [
    "train_set = train_datagen.flow(x_train,\n",
    "                              to_categorical(y_train,2),\n",
    "                              batch_size=batchsize)\n",
    "val_set = test_datagen.flow(x_val,\n",
    "                            to_categorical(y_val,2),\n",
    "                            batch_size=7)"
   ]
  },
  {
   "cell_type": "code",
   "execution_count": 23,
   "metadata": {},
   "outputs": [],
   "source": [
    "from tensorflow.keras.models import Sequential,Model,load_model\n",
    "from tensorflow.keras.layers import Conv2D,MaxPooling2D,Dense,Dropout,Flatten,BatchNormalization\n",
    "from tensorflow.keras.callbacks import EarlyStopping,ModelCheckpoint\n",
    "from livelossplot import PlotLossesKeras\n",
    "from tensorflow.keras.applications import VGG16,ResNet50V2,InceptionV3"
   ]
  },
  {
   "cell_type": "code",
   "execution_count": null,
   "metadata": {},
   "outputs": [],
   "source": [
    "'''model_tl = VGG16(include_top=False,\n",
    "                     pooling=None,\n",
    "                     weights='imagenet',\n",
    "                     input_shape=(224,224,3))\n",
    "model_tl.trainable = False'''"
   ]
  },
  {
   "cell_type": "markdown",
   "metadata": {},
   "source": [
    "## Functional API Approach :-"
   ]
  },
  {
   "cell_type": "code",
   "execution_count": null,
   "metadata": {
    "scrolled": true
   },
   "outputs": [],
   "source": [
    "'''x = model_tl.output\n",
    "l1 = Flatten()(x)\n",
    "l2 = Dense(512,activation='relu')(l1)\n",
    "l3 = Dropout(0.4)(l2)\n",
    "l3 = Dense(256,activation='relu')(l2)\n",
    "l4 = BatchNormalization()(l3)\n",
    "l5 = Dropout(0.4)(l4)\n",
    "l6 = Dense(64,activation='relu')(l5)\n",
    "l7 = BatchNormalization()(l6)\n",
    "out = Dense(2,activation='sigmoid')(l7)\n",
    "\n",
    "model_fapi = Model(inputs=model_tl.input,outputs=out)\n",
    "model_fapi.compile(optimizer='adam',loss='binary_crossentropy',metrics=['accuracy'])\n",
    "model_fapi.summary()'''"
   ]
  },
  {
   "cell_type": "code",
   "execution_count": 24,
   "metadata": {},
   "outputs": [],
   "source": [
    "model_fapi = load_model('Models/final_model.h5')"
   ]
  },
  {
   "cell_type": "code",
   "execution_count": 44,
   "metadata": {},
   "outputs": [],
   "source": [
    "callback = [ModelCheckpoint('tmp_weights/epochs_{epoch:02d}_acc_{val_accuracy:0.4f}',\n",
    "                           save_best_only=True,\n",
    "                           save_weights_only=True,\n",
    "                           monitor='val_loss'),\n",
    "           EarlyStopping(patience=2,\n",
    "                        monitor='val_accuracy'),\n",
    "           PlotLossesKeras()]"
   ]
  },
  {
   "cell_type": "code",
   "execution_count": 45,
   "metadata": {},
   "outputs": [
    {
     "data": {
      "image/png": "[encoded data removed]",
      "text/plain": [
       "<Figure size 864x576 with 2 Axes>"
      ]
     },
     "metadata": {
      "needs_background": "light"
     },
     "output_type": "display_data"
    },
    {
     "name": "stdout",
     "output_type": "stream",
     "text": [
      "accuracy\n",
      "\ttraining         \t (min:    0.818, max:    0.818, cur:    0.818)\n",
      "\tvalidation       \t (min:    0.848, max:    0.848, cur:    0.848)\n",
      "Loss\n",
      "\ttraining         \t (min:    0.392, max:    0.392, cur:    0.392)\n",
      "\tvalidation       \t (min:    0.383, max:    0.383, cur:    0.383)\n",
      "98/98 [==============================] - 443s 5s/step - loss: 0.3919 - accuracy: 0.8182 - val_loss: 0.3829 - val_accuracy: 0.8478\n"
     ]
    }
   ],
   "source": [
    "h = model_fapi.fit_generator(train_set,\n",
    "                            validation_data=val_set,\n",
    "                            steps_per_epoch=train_set.n//batchsize,\n",
    "                            validation_steps=val_set.n//7,\n",
    "                            epochs=1,\n",
    "                            callbacks=callback)"
   ]
  },
  {
   "cell_type": "markdown",
   "metadata": {},
   "source": [
    "## For Evaluation Purposes :-"
   ]
  },
  {
   "cell_type": "code",
   "execution_count": 46,
   "metadata": {},
   "outputs": [],
   "source": [
    "y_pred = model_fapi.predict(x_test)"
   ]
  },
  {
   "cell_type": "code",
   "execution_count": 47,
   "metadata": {},
   "outputs": [],
   "source": [
    "y_pred = [np.argmax(i) for i in y_pred]"
   ]
  },
  {
   "cell_type": "code",
   "execution_count": 48,
   "metadata": {},
   "outputs": [],
   "source": [
    "sub = pd.DataFrame({'image_names':test_df.image_names,'emergency_or_not':y_pred})\n",
    "sub.to_csv(\"Submission.csv\",index=False)"
   ]
  },
  {
   "cell_type": "markdown",
   "metadata": {},
   "source": [
    "## Model Save :-"
   ]
  },
  {
   "cell_type": "code",
   "execution_count": 49,
   "metadata": {},
   "outputs": [],
   "source": [
    "model_fapi_json = model_fapi.to_json()\n",
    "with open(\"Models/final_model_fapi.json\",'w') as file:\n",
    "    file.write(model_fapi_json)"
   ]
  },
  {
   "cell_type": "code",
   "execution_count": 50,
   "metadata": {},
   "outputs": [],
   "source": [
    "model_fapi.save(\"Models/final_model.h5\")"
   ]
  },
  {
   "cell_type": "code",
   "execution_count": null,
   "metadata": {},
   "outputs": [],
   "source": []
  }
 ],
 "metadata": {
  "kernelspec": {
   "display_name": "Python 3",
   "language": "python",
   "name": "python3"
  },
  "language_info": {
   "codemirror_mode": {
    "name": "ipython",
    "version": 3
   },
   "file_extension": ".py",
   "mimetype": "text/x-python",
   "name": "python",
   "nbconvert_exporter": "python",
   "pygments_lexer": "ipython3",
   "version": "3.7.7"
  }
 },
 "nbformat": 4,
 "nbformat_minor": 4
}
